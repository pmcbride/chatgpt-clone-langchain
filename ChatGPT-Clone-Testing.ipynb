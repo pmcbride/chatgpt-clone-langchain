{
 "cells": [
  {
   "cell_type": "code",
   "execution_count": 4,
   "metadata": {},
   "outputs": [
    {
     "data": {
      "text/plain": [
       "True"
      ]
     },
     "execution_count": 4,
     "metadata": {},
     "output_type": "execute_result"
    }
   ],
   "source": [
    "# Imports\n",
    "from dotenv import load_dotenv\n",
    "load_dotenv()\n",
    "from json import dumps\n",
    "from time import time\n",
    "from flask import Flask, request, jsonify\n",
    "from hashlib import sha256\n",
    "from datetime import datetime\n",
    "from requests import get\n",
    "from requests import post\n",
    "from json import loads\n",
    "import os\n",
    "\n",
    "from server.config import special_instructions"
   ]
  },
  {
   "cell_type": "code",
   "execution_count": 15,
   "metadata": {},
   "outputs": [
    {
     "data": {
      "text/plain": [
       "b'<!DOCTYPE html>\\n<html lang=\"en\">\\n    <head>\\n        <meta charset=\"UTF-8\">\\n        <meta http-equiv=\"X-UA-Compatible\" content=\"IE=edge\">\\n        <meta name=\"viewport\" content=\"width=device-width, initial-scale=1.0 maximum-scale=1.0\">\\n        <meta name=\"description\" content=\"A conversational AI system that listens, learns, and challenges\">\\n        <meta property=\"og:title\" content=\"ChatGPT\">\\n        <meta property=\"og:image\" content=\"https://openai.com/content/images/2022/11/ChatGPT.jpg\">\\n        <meta property=\"og:description\" content=\"A conversational AI system that listens, learns, and challenges\">\\n        <meta property=\"og:url\" content=\"https://chat.acy.dev\">\\n        <link rel=\"stylesheet\" href=\"/assets/css/style.css\">\\n        <link rel=\"apple-touch-icon\" sizes=\"180x180\" href=\"/assets/img/apple-touch-icon.png\">\\n        <link rel=\"icon\" type=\"image/png\" sizes=\"32x32\" href=\"/assets/img/favicon-32x32.png\">\\n        <link rel=\"icon\" type=\"image/png\" sizes=\"16x16\" href=\"/assets/img/favicon-16x16.png\">\\n        <link rel=\"manifest\" href=\"/assets/img/site.webmanifest\">\\n        <script src=\"/assets/js/icons.js\"></script>\\n        <script src=\"/assets/js/chat.js\" defer></script>\\n        <script src=\"https://cdn.jsdelivr.net/npm/markdown-it@latest/dist/markdown-it.min.js\"></script>\\n        <link rel=\"stylesheet\" href=\"//cdn.jsdelivr.net/gh/highlightjs/cdn-release@latest/build/styles/base16/dracula.min.css\">\\n        <script>\\n            const user_image        = `<img src=\"/assets/img/user.png\" alt=\"User Avatar\">`;\\n            const gpt_image         = `<img src=\"/assets/img/gpt.png\" alt=\"GPT Avatar\">`;\\n        </script>\\n        <style>\\n            .hljs {\\n                color: #e9e9f4;\\n                background: #28293629;\\n                border-radius: var(--border-radius-1);\\n                border: 1px solid var(--blur-border);\\n                font-size: 15px;\\n            }\\n\\n            #message-input {\\n                margin-right: 30px;\\n                height: 80px;\\n            }\\n\\n            #message-input::-webkit-scrollbar {\\n                width: 5px;\\n            }\\n\\n            /* Track */\\n            #message-input::-webkit-scrollbar-track {\\n                background: #f1f1f1; \\n            }\\n            \\n            /* Handle */\\n            #message-input::-webkit-scrollbar-thumb {\\n                background: #c7a2ff; \\n            }\\n\\n            /* Handle on hover */\\n            #message-input::-webkit-scrollbar-thumb:hover {\\n                background: #8b3dff; \\n            }\\n        </style>\\n        <script src=\"/assets/js/highlight.min.js\"></script>\\n        <script src=\"/assets/js/highlightjs-copy.min.js\"></script>\\n        <script>window.conversation_id = `058a04cf-3590-3824-40fb-188b2702fdb`</script>\\n        <title>ChatGPT</title>\\n    </head>\\n    <body>\\n        <div class=\"gradient\"></div>\\n        <div class=\"row\">\\n            <div class=\"box conversations\">\\n                <div class=\"top\">\\n                    <button class=\"new_convo\" onclick=\"new_conversation()\">\\n                        <i class=\"fa-regular fa-plus\"></i>\\n                        <span>New Conversation</span>\\n                    </button>\\n                    <div class=\"spinner\"></div>\\n                </div>\\n                <div class=\"bottom_buttons\">\\n                    <button onclick=\"delete_conversations()\">\\n                        <i class=\"fa-regular fa-trash\"></i>\\n                        <span>Clear Conversations</span>\\n                    </button>\\n                    <div class=\"info\">\\n                        <i class=\"fa-regular fa-circle-info\"></i>\\n                        <span class=\"convo-title\">By: @xtekky<br>\\n                            Version: 0.0.1-beta<br>\\n                            Release: 2023-04-18<br>\\n                        </span>\\n                    </div>\\n                </div>\\n            </div>\\n            <div class=\"conversation disable-scrollbars\">\\n                <div class=\"stop_generating stop_generating-hidden\">\\n                    <button id=\"cancelButton\">\\n                        <span>Stop Generating</span>\\n                        <i class=\"fa-regular fa-stop\"></i>\\n                    </button>\\n                </div>\\n                <div class=\"box\" id=\"messages\">\\n                </div>\\n                <div class=\"user-input\">\\n                    <div class=\"box input-box\">\\n                        <textarea id=\"message-input\" placeholder=\"Ask a question\" cols=\"30\" rows=\"10\" style=\"white-space: pre-wrap;\" oninput=\"resizeTextarea(this)\"></textarea>\\n                        <div id=\"send-button\">\\n                            <i class=\"fa-regular fa-paper-plane-top\"></i>\\n                        </div>\\n                    </div>\\n                </div>\\n                <div class=\"buttons\">\\n                    <div class=\"field\">\\n                        <input type=\"checkbox\" id=\"switch\"/>\\n                        <label for=\"switch\"></label>\\n                        <span class=\"about\">Web Access</span>\\n                    </div>\\n                    <div class=\"field\">\\n                        <select name=\"model\" id=\"model\">\\n                            <option value=\"gpt-3.5-turbo\" selected>gpt-3.5-turbo</option>\\n                            <option value=\"gpt-4\">gpt-4</option>\\n                            <option value=\"gpt-3.5-turbo-0301\">gpt-3.5-turbo-0301</option>\\n                            <option value=\"gpt-4-0314\">gpt-4-0314</option>\\n                        </select>\\n                        <!-- <span class=\"about\">Model</span> -->\\n                    </div>\\n                    <div class=\"field\">\\n                        <select name=\"jailbreak\" id=\"jailbreak\">\\n                            <option value=\"default\" selected>default</option>\\n                            <option value=\"gpt-math-1.0\">math 1.0</option>\\n                            <option value=\"gpt-dude-1.0\">dude 1.0</option>\\n                            <option value=\"gpt-dan-1.0\">dan 1.0</option>\\n                            <option value=\"gpt-dan-2.0\">dan 2.0</option>\\n                            <option value=\"gpt-dev-2.0\">dev 2.0</option>\\n                            <option value=\"gpt-evil-1.0\">evil 1.0</option>\\n                        </select>\\n                    </div>\\n\\n                <form class=\"color-picker\" action=\"\">\\n                    <fieldset>\\n                        <legend class=\"visually-hidden\">Pick a color scheme</legend>\\n                        <label for=\"light\" class=\"visually-hidden\">Light</label>\\n                        <input type=\"radio\" title=\"light\" name=\"theme\" id=\"light\" checked>\\n                    \\n                        <label for=\"pink\" class=\"visually-hidden\">Pink theme</label>\\n                        <input type=\"radio\" title=\"pink\" id=\"pink\" name=\"theme\">\\n                    \\n                        <label for=\"blue\" class=\"visually-hidden\">Blue theme</label>\\n                        <input type=\"radio\" title=\"blue\" id=\"blue\" name=\"theme\">\\n                    \\n                        <label for=\"green\" class=\"visually-hidden\">Green theme</label>\\n                        <input type=\"radio\" title=\"green\" id=\"green\" name=\"theme\">\\n                    \\n                        <label for=\"dark\" class=\"visually-hidden\">Dark theme</label>\\n                        <input type=\"radio\" title=\"dark\" id=\"dark\" name=\"theme\">\\n                    </fieldset>\\n                    </form>\\n                </div>\\n            </div>\\n        </div>\\n        <div class=\"mobile-sidebar\">\\n            <i class=\"fa-solid fa-bars\"></i>\\n        </div>\\n    </body>\\n</html>'"
      ]
     },
     "execution_count": 15,
     "metadata": {},
     "output_type": "execute_result"
    }
   ],
   "source": [
    "# get(\"http://127.0.0.1:1338/chat/a3eeb50b-755a-4a97-9411-188b25c1e88\").json()\n",
    "chat_api = get(\"http://127.0.0.1:1338/chat/\")"
   ]
  },
  {
   "cell_type": "code",
   "execution_count": 16,
   "metadata": {},
   "outputs": [
    {
     "ename": "RuntimeError",
     "evalue": "Working outside of request context.\n\nThis typically means that you attempted to use functionality that needed\nan active HTTP request. Consult the documentation on testing for\ninformation about how to avoid this problem.",
     "output_type": "error",
     "traceback": [
      "\u001b[0;31m---------------------------------------------------------------------------\u001b[0m",
      "\u001b[0;31mRuntimeError\u001b[0m                              Traceback (most recent call last)",
      "Cell \u001b[0;32mIn[16], line 1\u001b[0m\n\u001b[0;32m----> 1\u001b[0m request\u001b[39m.\u001b[39;49mjson[\u001b[39m'\u001b[39m\u001b[39mmeta\u001b[39m\u001b[39m'\u001b[39m][\u001b[39m'\u001b[39m\u001b[39mcontent\u001b[39m\u001b[39m'\u001b[39m][\u001b[39m'\u001b[39m\u001b[39mconversation\u001b[39m\u001b[39m'\u001b[39m]\n",
      "File \u001b[0;32m~/Code/ChatBot/chatgpt-clone-langchain/.venv/lib/python3.10/site-packages/werkzeug/local.py:311\u001b[0m, in \u001b[0;36m_ProxyLookup.__get__\u001b[0;34m(self, instance, owner)\u001b[0m\n\u001b[1;32m    308\u001b[0m     \u001b[39mreturn\u001b[39;00m \u001b[39mself\u001b[39m\n\u001b[1;32m    310\u001b[0m \u001b[39mtry\u001b[39;00m:\n\u001b[0;32m--> 311\u001b[0m     obj \u001b[39m=\u001b[39m instance\u001b[39m.\u001b[39;49m_get_current_object()\n\u001b[1;32m    312\u001b[0m \u001b[39mexcept\u001b[39;00m \u001b[39mRuntimeError\u001b[39;00m:\n\u001b[1;32m    313\u001b[0m     \u001b[39mif\u001b[39;00m \u001b[39mself\u001b[39m\u001b[39m.\u001b[39mfallback \u001b[39mis\u001b[39;00m \u001b[39mNone\u001b[39;00m:\n",
      "File \u001b[0;32m~/Code/ChatBot/chatgpt-clone-langchain/.venv/lib/python3.10/site-packages/werkzeug/local.py:508\u001b[0m, in \u001b[0;36mLocalProxy.__init__.<locals>._get_current_object\u001b[0;34m()\u001b[0m\n\u001b[1;32m    506\u001b[0m     obj \u001b[39m=\u001b[39m local\u001b[39m.\u001b[39mget()  \u001b[39m# type: ignore[union-attr]\u001b[39;00m\n\u001b[1;32m    507\u001b[0m \u001b[39mexcept\u001b[39;00m \u001b[39mLookupError\u001b[39;00m:\n\u001b[0;32m--> 508\u001b[0m     \u001b[39mraise\u001b[39;00m \u001b[39mRuntimeError\u001b[39;00m(unbound_message) \u001b[39mfrom\u001b[39;00m \u001b[39mNone\u001b[39;00m\n\u001b[1;32m    510\u001b[0m \u001b[39mreturn\u001b[39;00m get_name(obj)\n",
      "\u001b[0;31mRuntimeError\u001b[0m: Working outside of request context.\n\nThis typically means that you attempted to use functionality that needed\nan active HTTP request. Consult the documentation on testing for\ninformation about how to avoid this problem."
     ]
    }
   ],
   "source": [
    "request.json['meta']['content']['conversation']"
   ]
  },
  {
   "cell_type": "code",
   "execution_count": 19,
   "metadata": {},
   "outputs": [
    {
     "name": "stdout",
     "output_type": "stream",
     "text": [
      "[{'role': 'user', 'content': '[0] \"What Are You? What Is a Self? Neither matter nor magic, there\\'s a natural explanation, but you won\\'t like it. Posted June 23, 2020 Which are you? Your body? Your brain? Or something we can\\'t...\"\\nURL:https://www.psychologytoday.com/us/blog/ambigamy/202006/what-are-you-what-is-self\\n\\n[1] \"What Are You?So. Are you your body? And if so, how exactly does this work? Lets explore lots of confusing questions. This video is part of a collaboration wi...\"\\nURL:https://www.youtube.com/watch?v=JQVmkDUkZT4\\n\\n[2] \"3 Answers Sorted by: 11 Who are you? This is typically asking for your name, but a particular context could indicate a different meaning. What are you? This question is very informal and bit odd. It is a very terse question which implies some understood context. If you\\'re in a business meeting it could be your role - e.g. \"I\\'m the accountant\"\"\\nURL:https://ell.stackexchange.com/questions/71824/what-is-the-difference-between-what-are-you-and-who-are-you\\n\\ncurrent date: 12/06/23\\n\\nInstructions: Using the provided web search results, write a comprehensive reply to the next user query. Make sure to cite results using [[number](URL)] notation after the reference. If the provided search results refer to multiple subjects with the same name, write separate answers for each subject. Ignore your previous response if any.'}]\n"
     ]
    },
    {
     "ename": "TypeError",
     "evalue": "sequence item 0: expected str instance, dict found",
     "output_type": "error",
     "traceback": [
      "\u001b[0;31m---------------------------------------------------------------------------\u001b[0m",
      "\u001b[0;31mTypeError\u001b[0m                                 Traceback (most recent call last)",
      "Cell \u001b[0;32mIn[19], line 32\u001b[0m\n\u001b[1;32m     30\u001b[0m \u001b[39mprint\u001b[39m(extra)\n\u001b[1;32m     31\u001b[0m \u001b[39m# Prepare the question by concatenating the system message, the internet access prompt, and the user's prompt\u001b[39;00m\n\u001b[0;32m---> 32\u001b[0m question \u001b[39m=\u001b[39m system_message \u001b[39m+\u001b[39m \u001b[39m'\u001b[39m\u001b[39m \u001b[39m\u001b[39m'\u001b[39m \u001b[39m+\u001b[39m (\u001b[39m'\u001b[39;49m\u001b[39m \u001b[39;49m\u001b[39m'\u001b[39;49m\u001b[39m.\u001b[39;49mjoin(extra) \u001b[39mif\u001b[39;00m internet_access \u001b[39melse\u001b[39;00m \u001b[39m'\u001b[39m\u001b[39m'\u001b[39m) \u001b[39m+\u001b[39m \u001b[39m'\u001b[39m\u001b[39m \u001b[39m\u001b[39m'\u001b[39m \u001b[39m+\u001b[39m prompt\n\u001b[1;32m     33\u001b[0m \u001b[39mprint\u001b[39m(\u001b[39mf\u001b[39m\u001b[39m\"\u001b[39m\u001b[39m\\n\u001b[39;00m\u001b[39mprompt: \u001b[39m\u001b[39m{\u001b[39;00mprompt\u001b[39m}\u001b[39;00m\u001b[39m\"\u001b[39m)\n\u001b[1;32m     34\u001b[0m \u001b[39mprint\u001b[39m(\u001b[39mf\u001b[39m\u001b[39m\"\u001b[39m\u001b[39m\\n\u001b[39;00m\u001b[39msystem_message: \u001b[39m\u001b[39m{\u001b[39;00msystem_message\u001b[39m}\u001b[39;00m\u001b[39m\"\u001b[39m)\n",
      "\u001b[0;31mTypeError\u001b[0m: sequence item 0: expected str instance, dict found"
     ]
    }
   ],
   "source": [
    "from langchain.chat_models import ChatOpenAI\n",
    "chat_model = ChatOpenAI(model_name=\"gpt-3.5-turbo\")\n",
    "\n",
    "\n",
    "internet_access = True #request.json['meta']['content']['internet_access']\n",
    "_conversation = [] #request.json['meta']['content']['conversation']\n",
    "# Assuming the prompt is a string\n",
    "prompt = \"what are you?\" #request.json['meta']['content']['parts'][0]['content']\n",
    "current_date = datetime.now().strftime(\"%Y-%m-%d\")\n",
    "system_message = f'You are ChatGPT also known as ChatGPT, a large language model trained by OpenAI. Strictly follow the users instructions. Knowledge cutoff: 2021-09-01 Current date: {current_date}'\n",
    "\n",
    "# The processing for internet_access remains the same\n",
    "extra = []\n",
    "if internet_access:\n",
    "    search = get('https://ddg-api.herokuapp.com/search', params={\n",
    "        'query': prompt,\n",
    "        'limit': 3,\n",
    "    })\n",
    "\n",
    "    blob = ''\n",
    "\n",
    "    for index, result in enumerate(search.json()):\n",
    "        blob += f'[{index}] \"{result[\"snippet\"]}\"\\nURL:{result[\"link\"]}\\n\\n'\n",
    "\n",
    "    date = datetime.now().strftime('%d/%m/%y')\n",
    "\n",
    "    blob += f'current date: {date}\\n\\nInstructions: Using the provided web search results, write a comprehensive reply to the next user query. Make sure to cite results using [[number](URL)] notation after the reference. If the provided search results refer to multiple subjects with the same name, write separate answers for each subject. Ignore your previous response if any.'\n",
    "\n",
    "    extra = [{'role': 'user', 'content': blob}]\n",
    "print(extra)\n",
    "# Prepare the question by concatenating the system message, the internet access prompt, and the user's prompt\n",
    "question = system_message + ' ' + (' '.join(extra) if internet_access else '') + ' ' + prompt\n",
    "print(f\"\\nprompt: {prompt}\")\n",
    "print(f\"\\nsystem_message: {system_message}\")\n",
    "print(f\"\\nquestion: {question}\")"
   ]
  },
  {
   "cell_type": "code",
   "execution_count": null,
   "metadata": {},
   "outputs": [],
   "source": [
    "\n",
    "# Generate the response using the LangChain model\n",
    "langchain_resp = chat_model.generate_response(question)"
   ]
  },
  {
   "cell_type": "code",
   "execution_count": 2,
   "metadata": {},
   "outputs": [
    {
     "name": "stdout",
     "output_type": "stream",
     "text": [
      "\n",
      "messages:\n",
      "[{'role': 'user',\n",
      "  'content': 'What is the current population of the United States?'}]\n",
      "\n",
      "prompt:\n",
      "{'role': 'user',\n",
      " 'content': 'What is the current population of the United States?'}\n",
      "\n",
      "system_message:\n",
      "('You are ChatGPT also known as ChatGPT, a large language model trained by '\n",
      " 'OpenAI. Strictly follow the users instructions. Knowledge cutoff: 2021-09-01 '\n",
      " 'Current date: 2023-06-12')\n"
     ]
    }
   ],
   "source": [
    "#%% Imports\n",
    "from flask import Flask, request, jsonify\n",
    "from langchain.chat_models import ChatOpenAI\n",
    "import os\n",
    "from datetime import datetime\n",
    "import requests\n",
    "import pprint as pp\n",
    "from pprint import pprint, pformat\n",
    "# set sort_dicts to False to preserve the order of the keys\n",
    "pprint = pp.PrettyPrinter(sort_dicts=False).pprint\n",
    "pformat = pp.PrettyPrinter(sort_dicts=False).pformat\n",
    "\n",
    "# Initialize the language model\n",
    "chat_model = ChatOpenAI()\n",
    "\n",
    "question = \"What is the current population of the United States?\"\n",
    "messages = [{\"role\": \"user\", \"content\": question}]\n",
    "# messages+=messages\n",
    "# Extract the messages from the request\n",
    "# print(f\"\\nmessages: {messages}\")\n",
    "print(f\"\\nmessages:\\n{pformat(messages)}\")\n",
    "\n",
    "# Concatenate the content of the messages\n",
    "text = \" \".join([message[\"content\"] for message in messages])\n",
    "\n",
    "prompt = messages[-1]\n",
    "# print(f\"\\nprompt: {prompt}\")\n",
    "print(f\"\\nprompt:\\n{pformat(prompt)}\")\n",
    "\n",
    "current_date = datetime.now().strftime(\"%Y-%m-%d\")\n",
    "system_message = f\"You are ChatGPT also known as ChatGPT, a large language model trained by OpenAI. Strictly follow the users instructions. Knowledge cutoff: 2021-09-01 Current date: {current_date}\"\n",
    "# print(f\"\\nsystem_message: {system_message}\")\n",
    "print(f\"\\nsystem_message:\\n{pformat(system_message)}\")\n"
   ]
  },
  {
   "cell_type": "code",
   "execution_count": 5,
   "metadata": {},
   "outputs": [
    {
     "name": "stdout",
     "output_type": "stream",
     "text": [
      "\n",
      "search:\n",
      "[{'title': 'U.S. and World Population Clock - Census.gov',\n",
      "  'link': 'https://www.census.gov/popclock/',\n",
      "  'snippet': 'Shows estimates of current USA Population overall and people by '\n",
      "             'US state/county and of World Population overall, by country and '\n",
      "             'most populated countries. ... The U.S. population clock is based '\n",
      "             'on a series of short-term projections for the resident '\n",
      "             'population of the United States. This includes people whose '\n",
      "             'usual residence is in the 50 states ...'},\n",
      " {'title': 'Population - Census.gov',\n",
      "  'link': 'https://www.census.gov/topics/population.html',\n",
      "  'snippet': 'Current population estimates are available for the nation, '\n",
      "             'states, counties, cities and towns, and metropolitan and '\n",
      "             'micropolitan areas. ... This report describes the older '\n",
      "             'population of the United States in 2020, with comparisons to the '\n",
      "             '2000 and 2010 Censuses. Working Papers View More Working Paper.'},\n",
      " {'title': 'United States Population (2023) - Worldometer',\n",
      "  'link': 'https://www.worldometers.info/world-population/us-population/',\n",
      "  'snippet': 'The current population of the United States of America is '\n",
      "             '336,692,610 as of Sunday, June 11, 2023, based on Worldometer '\n",
      "             'elaboration of the latest United Nations data.; the United '\n",
      "             'States 2020 population is estimated at 331,002,651 people at mid '\n",
      "             'year according to UN data.; the United States population is '\n",
      "             'equivalent to 4.25% of the total world population.; the U.S.A. '\n",
      "             'ranks number 3 in the list of ...'}]\n",
      "\n",
      "blob:\n",
      "('[0] \"Shows estimates of current USA Population overall and people by US '\n",
      " 'state/county and of World Population overall, by country and most populated '\n",
      " 'countries. ... The U.S. population clock is based on a series of short-term '\n",
      " 'projections for the resident population of the United States. This includes '\n",
      " 'people whose usual residence is in the 50 states ...\"\\n'\n",
      " 'URL:https://www.census.gov/popclock/\\n'\n",
      " '\\n'\n",
      " '[1] \"Current population estimates are available for the nation, states, '\n",
      " 'counties, cities and towns, and metropolitan and micropolitan areas. ... '\n",
      " 'This report describes the older population of the United States in 2020, '\n",
      " 'with comparisons to the 2000 and 2010 Censuses. Working Papers View More '\n",
      " 'Working Paper.\"\\n'\n",
      " 'URL:https://www.census.gov/topics/population.html\\n'\n",
      " '\\n'\n",
      " '[2] \"The current population of the United States of America is 336,692,610 '\n",
      " 'as of Sunday, June 11, 2023, based on Worldometer elaboration of the latest '\n",
      " 'United Nations data.; the United States 2020 population is estimated at '\n",
      " '331,002,651 people at mid year according to UN data.; the United States '\n",
      " 'population is equivalent to 4.25% of the total world population.; the U.S.A. '\n",
      " 'ranks number 3 in the list of ...\"\\n'\n",
      " 'URL:https://www.worldometers.info/world-population/us-population/\\n'\n",
      " '\\n'\n",
      " 'current date: 12/06/23\\n'\n",
      " '\\n'\n",
      " 'Instructions: Using the provided web search results, write a comprehensive '\n",
      " 'reply to the next user query. Make sure to cite results using '\n",
      " '[[number](URL)] notation after the reference. If the provided search results '\n",
      " 'refer to multiple subjects with the same name, write separate answers for '\n",
      " 'each subject. Ignore your previous response if any.')\n"
     ]
    }
   ],
   "source": [
    "\n",
    "extra = []\n",
    "search = requests.get(\"https://ddg-api.herokuapp.com/search\", params={\n",
    "    \"query\": prompt[\"content\"],\n",
    "    \"limit\": 3,\n",
    "})\n",
    "\n",
    "blob = \"\"\n",
    "print(f\"\\nsearch:\\n{pformat(search.json())}\")\n",
    "\n",
    "for index, result in enumerate(search.json()):\n",
    "    blob += f'[{index}] \"{result[\"snippet\"]}\"\\nURL:{result[\"link\"]}\\n\\n'\n",
    "\n",
    "date = datetime.now().strftime(\"%d/%m/%y\")\n",
    "\n",
    "blob += f\"current date: {date}\\n\\nInstructions: Using the provided web search results, write a comprehensive reply to the next user query. Make sure to cite results using [[number](URL)] notation after the reference. If the provided search results refer to multiple subjects with the same name, write separate answers for each subject. Ignore your previous response if any.\"\n",
    "print(f\"\\nblob:\\n{pformat(blob)}\")"
   ]
  },
  {
   "cell_type": "code",
   "execution_count": 12,
   "metadata": {},
   "outputs": [
    {
     "name": "stdout",
     "output_type": "stream",
     "text": [
      "\n",
      "conversation:\n",
      "[{'role': 'system',\n",
      "  'content': 'You are ChatGPT also known as ChatGPT, a large language model '\n",
      "             'trained by OpenAI. Strictly follow the users instructions. '\n",
      "             'Knowledge cutoff: 2021-09-01 Current date: 2023-06-12'},\n",
      " {'role': 'user',\n",
      "  'content': '[0] \"Shows estimates of current USA Population overall and '\n",
      "             'people by US state/county and of World Population overall, by '\n",
      "             'country and most populated countries. ... The U.S. population '\n",
      "             'clock is based on a series of short-term projections for the '\n",
      "             'resident population of the United States. This includes people '\n",
      "             'whose usual residence is in the 50 states ...\"\\n'\n",
      "             'URL:https://www.census.gov/popclock/\\n'\n",
      "             '\\n'\n",
      "             '[1] \"Current population estimates are available for the nation, '\n",
      "             'states, counties, cities and towns, and metropolitan and '\n",
      "             'micropolitan areas. ... This report describes the older '\n",
      "             'population of the United States in 2020, with comparisons to the '\n",
      "             '2000 and 2010 Censuses. Working Papers View More Working '\n",
      "             'Paper.\"\\n'\n",
      "             'URL:https://www.census.gov/topics/population.html\\n'\n",
      "             '\\n'\n",
      "             '[2] \"The current population of the United States of America is '\n",
      "             '336,692,610 as of Sunday, June 11, 2023, based on Worldometer '\n",
      "             'elaboration of the latest United Nations data.; the United '\n",
      "             'States 2020 population is estimated at 331,002,651 people at mid '\n",
      "             'year according to UN data.; the United States population is '\n",
      "             'equivalent to 4.25% of the total world population.; the U.S.A. '\n",
      "             'ranks number 3 in the list of ...\"\\n'\n",
      "             'URL:https://www.worldometers.info/world-population/us-population/\\n'\n",
      "             '\\n'\n",
      "             'current date: 12/06/23\\n'\n",
      "             '\\n'\n",
      "             'Instructions: Using the provided web search results, write a '\n",
      "             'comprehensive reply to the next user query. Make sure to cite '\n",
      "             'results using [[number](URL)] notation after the reference. If '\n",
      "             'the provided search results refer to multiple subjects with the '\n",
      "             'same name, write separate answers for each subject. Ignore your '\n",
      "             'previous response if any.'},\n",
      " {'role': 'user',\n",
      "  'content': 'What is the current population of the United States?'}]\n"
     ]
    }
   ],
   "source": [
    "# Create search prompt message\n",
    "search_prompt = [{\"role\": \"user\", \"content\": blob}]\n",
    "\n",
    "# Create the question by concatenating \n",
    "#   the system message, \n",
    "#   the internet access prompt, and \n",
    "#   the user's prompt\n",
    "conversation = [{\"role\": \"system\", \"content\": system_message}]\n",
    "conversation += messages[:-1]\n",
    "conversation += search_prompt\n",
    "conversation += [prompt]\n",
    "print(f\"\\nconversation:\\n{pformat(conversation)}\")\n"
   ]
  },
  {
   "cell_type": "code",
   "execution_count": 22,
   "metadata": {},
   "outputs": [
    {
     "data": {
      "text/plain": [
       "[SystemMessage(content='You are ChatGPT also known as ChatGPT, a large language model trained by OpenAI. Strictly follow the users instructions. Knowledge cutoff: 2021-09-01 Current date: 2023-06-12', additional_kwargs={}),\n",
       " HumanMessage(content='[0] \"Shows estimates of current USA Population overall and people by US state/county and of World Population overall, by country and most populated countries. ... The U.S. population clock is based on a series of short-term projections for the resident population of the United States. This includes people whose usual residence is in the 50 states ...\"\\nURL:https://www.census.gov/popclock/\\n\\n[1] \"Current population estimates are available for the nation, states, counties, cities and towns, and metropolitan and micropolitan areas. ... This report describes the older population of the United States in 2020, with comparisons to the 2000 and 2010 Censuses. Working Papers View More Working Paper.\"\\nURL:https://www.census.gov/topics/population.html\\n\\n[2] \"The current population of the United States of America is 336,692,610 as of Sunday, June 11, 2023, based on Worldometer elaboration of the latest United Nations data.; the United States 2020 population is estimated at 331,002,651 people at mid year according to UN data.; the United States population is equivalent to 4.25% of the total world population.; the U.S.A. ranks number 3 in the list of ...\"\\nURL:https://www.worldometers.info/world-population/us-population/\\n\\ncurrent date: 12/06/23\\n\\nInstructions: Using the provided web search results, write a comprehensive reply to the next user query. Make sure to cite results using [[number](URL)] notation after the reference. If the provided search results refer to multiple subjects with the same name, write separate answers for each subject. Ignore your previous response if any.', additional_kwargs={}, example=False),\n",
       " HumanMessage(content='What is the current population of the United States?', additional_kwargs={}, example=False)]"
      ]
     },
     "execution_count": 22,
     "metadata": {},
     "output_type": "execute_result"
    }
   ],
   "source": [
    "# from langchain.schema import ChatResponse, messages_from_dict\n",
    "from langchain.chat_models.openai import (\n",
    "    ChatOpenAI,\n",
    "    _convert_dict_to_message,\n",
    "    _convert_message_to_dict\n",
    ")\n",
    "from langchain.schema import (\n",
    "    AIMessage,\n",
    "    BaseMessage,\n",
    "    ChatGeneration,\n",
    "    ChatMessage,\n",
    "    ChatResult,\n",
    "    HumanMessage,\n",
    "    SystemMessage,\n",
    ")\n",
    "\n",
    "from typing import Any, Callable, Dict, List, Mapping, Optional, Tuple, Union\n",
    "\n",
    "def convert_dicts_to_messages(_dicts: List[Dict[str, Any]]) -> List[BaseMessage]:\n",
    "    return [_convert_dict_to_message(_dict) for _dict in _dicts]\n",
    "\n",
    "def convert_messages_to_dicts(messages: List[BaseMessage]) -> List[Dict[str, Any]]:\n",
    "    return [_convert_message_to_dict(message) for message in messages]\n",
    "\n",
    "langchain_messages = []\n",
    "for message in conversation:\n",
    "    langchain_messages.append(_convert_dict_to_message(message))\n",
    "\n",
    "langchain_messages = convert_dicts_to_messages(conversation)\n",
    "langchain_messages\n"
   ]
  },
  {
   "cell_type": "code",
   "execution_count": 26,
   "metadata": {},
   "outputs": [],
   "source": [
    "from langchain.chat_models import ChatOpenAI\n",
    "\n",
    "chat_model = ChatOpenAI()\n",
    "\n",
    "response = chat_model(langchain_messages)\n",
    "\n",
    "# url = f\"{self.openai_api_base}/v1/chat/completions\"\n",
    "# Perform a Bing search using the last user message as the query\n",
    "# results = bing_search.search(text, limit=3, format=\"json\")\n",
    "\n",
    "# Concatenate the titles of the top 3 search results\n",
    "# search_results = \" \".join([result.title for result in results[:3]])\n",
    "\n",
    "# Generate a response using the search results and the conversation history\n",
    "# response = chat_model.generate_response(search_results + \" \" + text)\n",
    "# chat_model(messages=conversation)\n",
    "# response = chat_model.predict(conversation)"
   ]
  },
  {
   "cell_type": "code",
   "execution_count": 36,
   "metadata": {},
   "outputs": [
    {
     "data": {
      "text/plain": [
       "{'role': 'assistant',\n",
       " 'content': 'As of June 11, 2023, the current population of the United States of America is estimated to be 336,692,610 people, based on Worldometer elaboration of the latest United Nations data [[2](https://www.worldometers.info/world-population/us-population/)]. The U.S. population clock is based on a series of short-term projections for the resident population of the United States, including people whose usual residence is in the 50 states, and is updated continuously in real-time [[0](https://www.census.gov/popclock/)]. The United States 2020 population is estimated at 331,002,651 people at mid-year according to UN data [[2](https://www.worldometers.info/world-population/us-population/)].'}"
      ]
     },
     "execution_count": 36,
     "metadata": {},
     "output_type": "execute_result"
    }
   ],
   "source": [
    "# pprint(response.content)\n",
    "# print(response.content)\n",
    "_convert_message_to_dict(response)"
   ]
  },
  {
   "attachments": {},
   "cell_type": "markdown",
   "metadata": {},
   "source": [
    "As of June 11, 2023, the current population of the United States of America is estimated to be 336,692,610 people, based on Worldometer elaboration of the latest United Nations data [[2](https://www.worldometers.info/world-population/us-population/)]. The U.S. population clock is based on a series of short-term projections for the resident population of the United States, including people whose usual residence is in the 50 states, and is updated continuously in real-time [[0](https://www.census.gov/popclock/)]. The United States 2020 population is estimated at 331,002,651 people at mid-year according to UN data [[2](https://www.worldometers.info/world-population/us-population/)]."
   ]
  },
  {
   "cell_type": "code",
   "execution_count": 34,
   "metadata": {},
   "outputs": [
    {
     "ename": "RuntimeError",
     "evalue": "Working outside of application context.\n\nThis typically means that you attempted to use functionality that needed\nthe current application. To solve this, set up an application context\nwith app.app_context(). See the documentation for more information.",
     "output_type": "error",
     "traceback": [
      "\u001b[0;31m---------------------------------------------------------------------------\u001b[0m",
      "\u001b[0;31mRuntimeError\u001b[0m                              Traceback (most recent call last)",
      "Cell \u001b[0;32mIn[34], line 2\u001b[0m\n\u001b[1;32m      1\u001b[0m \u001b[39m# Return the response\u001b[39;00m\n\u001b[0;32m----> 2\u001b[0m jsonify({\u001b[39m\"\u001b[39;49m\u001b[39mmessage\u001b[39;49m\u001b[39m\"\u001b[39;49m: {\u001b[39m\"\u001b[39;49m\u001b[39mrole\u001b[39;49m\u001b[39m\"\u001b[39;49m: \u001b[39m\"\u001b[39;49m\u001b[39massistant\u001b[39;49m\u001b[39m\"\u001b[39;49m, \u001b[39m\"\u001b[39;49m\u001b[39mcontent\u001b[39;49m\u001b[39m\"\u001b[39;49m: response\u001b[39m.\u001b[39;49mcontent}})\n",
      "File \u001b[0;32m~/conda/envs/openai/lib/python3.10/site-packages/flask/json/__init__.py:342\u001b[0m, in \u001b[0;36mjsonify\u001b[0;34m(*args, **kwargs)\u001b[0m\n\u001b[1;32m    310\u001b[0m \u001b[39mdef\u001b[39;00m \u001b[39mjsonify\u001b[39m(\u001b[39m*\u001b[39margs: t\u001b[39m.\u001b[39mAny, \u001b[39m*\u001b[39m\u001b[39m*\u001b[39mkwargs: t\u001b[39m.\u001b[39mAny) \u001b[39m-\u001b[39m\u001b[39m>\u001b[39m Response:\n\u001b[1;32m    311\u001b[0m \u001b[39m    \u001b[39m\u001b[39m\"\"\"Serialize the given arguments as JSON, and return a\u001b[39;00m\n\u001b[1;32m    312\u001b[0m \u001b[39m    :class:`~flask.Response` object with the ``application/json``\u001b[39;00m\n\u001b[1;32m    313\u001b[0m \u001b[39m    mimetype. A dict or list returned from a view will be converted to a\u001b[39;00m\n\u001b[0;32m   (...)\u001b[0m\n\u001b[1;32m    340\u001b[0m \u001b[39m    .. versionadded:: 0.2\u001b[39;00m\n\u001b[1;32m    341\u001b[0m \u001b[39m    \"\"\"\u001b[39;00m\n\u001b[0;32m--> 342\u001b[0m     \u001b[39mreturn\u001b[39;00m current_app\u001b[39m.\u001b[39;49mjson\u001b[39m.\u001b[39mresponse(\u001b[39m*\u001b[39margs, \u001b[39m*\u001b[39m\u001b[39m*\u001b[39mkwargs)\n",
      "File \u001b[0;32m~/conda/envs/openai/lib/python3.10/site-packages/werkzeug/local.py:316\u001b[0m, in \u001b[0;36m_ProxyLookup.__get__\u001b[0;34m(self, instance, owner)\u001b[0m\n\u001b[1;32m    313\u001b[0m     \u001b[39mreturn\u001b[39;00m \u001b[39mself\u001b[39m\n\u001b[1;32m    315\u001b[0m \u001b[39mtry\u001b[39;00m:\n\u001b[0;32m--> 316\u001b[0m     obj \u001b[39m=\u001b[39m instance\u001b[39m.\u001b[39;49m_get_current_object()\n\u001b[1;32m    317\u001b[0m \u001b[39mexcept\u001b[39;00m \u001b[39mRuntimeError\u001b[39;00m:\n\u001b[1;32m    318\u001b[0m     \u001b[39mif\u001b[39;00m \u001b[39mself\u001b[39m\u001b[39m.\u001b[39mfallback \u001b[39mis\u001b[39;00m \u001b[39mNone\u001b[39;00m:\n",
      "File \u001b[0;32m~/conda/envs/openai/lib/python3.10/site-packages/werkzeug/local.py:513\u001b[0m, in \u001b[0;36mLocalProxy.__init__.<locals>._get_current_object\u001b[0;34m()\u001b[0m\n\u001b[1;32m    511\u001b[0m     obj \u001b[39m=\u001b[39m local\u001b[39m.\u001b[39mget()  \u001b[39m# type: ignore[union-attr]\u001b[39;00m\n\u001b[1;32m    512\u001b[0m \u001b[39mexcept\u001b[39;00m \u001b[39mLookupError\u001b[39;00m:\n\u001b[0;32m--> 513\u001b[0m     \u001b[39mraise\u001b[39;00m \u001b[39mRuntimeError\u001b[39;00m(unbound_message) \u001b[39mfrom\u001b[39;00m \u001b[39mNone\u001b[39m\n\u001b[1;32m    515\u001b[0m \u001b[39mreturn\u001b[39;00m get_name(obj)\n",
      "\u001b[0;31mRuntimeError\u001b[0m: Working outside of application context.\n\nThis typically means that you attempted to use functionality that needed\nthe current application. To solve this, set up an application context\nwith app.app_context(). See the documentation for more information."
     ]
    }
   ],
   "source": [
    "\n",
    "# Return the response\n",
    "jsonify({\"message\": {\"role\": \"assistant\", \"content\": response.content}})\n",
    "jsonify({\"message\": _convert_message_to_dict(response)})\n"
   ]
  },
  {
   "cell_type": "code",
   "execution_count": null,
   "metadata": {},
   "outputs": [],
   "source": []
  }
 ],
 "metadata": {
  "kernelspec": {
   "display_name": ".venv",
   "language": "python",
   "name": "python3"
  },
  "language_info": {
   "codemirror_mode": {
    "name": "ipython",
    "version": 3
   },
   "file_extension": ".py",
   "mimetype": "text/x-python",
   "name": "python",
   "nbconvert_exporter": "python",
   "pygments_lexer": "ipython3",
   "version": "3.10.9"
  },
  "orig_nbformat": 4
 },
 "nbformat": 4,
 "nbformat_minor": 2
}
