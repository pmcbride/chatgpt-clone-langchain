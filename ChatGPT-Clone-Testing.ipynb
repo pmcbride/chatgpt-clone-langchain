{
 "cells": [
  {
   "cell_type": "code",
   "execution_count": 4,
   "metadata": {},
   "outputs": [
    {
     "data": {
      "text/plain": [
       "True"
      ]
     },
     "execution_count": 4,
     "metadata": {},
     "output_type": "execute_result"
    }
   ],
   "source": [
    "# Imports\n",
    "from dotenv import load_dotenv\n",
    "load_dotenv()\n",
    "from json import dumps\n",
    "from time import time\n",
    "from flask import Flask, request, jsonify\n",
    "from hashlib import sha256\n",
    "from datetime import datetime\n",
    "from requests import get\n",
    "from requests import post\n",
    "from json import loads\n",
    "import os\n",
    "\n",
    "from server.config import special_instructions"
   ]
  },
  {
   "cell_type": "code",
   "execution_count": 15,
   "metadata": {},
   "outputs": [
    {
     "data": {
      "text/plain": [
       "b'<!DOCTYPE html>\\n<html lang=\"en\">\\n    <head>\\n        <meta charset=\"UTF-8\">\\n        <meta http-equiv=\"X-UA-Compatible\" content=\"IE=edge\">\\n        <meta name=\"viewport\" content=\"width=device-width, initial-scale=1.0 maximum-scale=1.0\">\\n        <meta name=\"description\" content=\"A conversational AI system that listens, learns, and challenges\">\\n        <meta property=\"og:title\" content=\"ChatGPT\">\\n        <meta property=\"og:image\" content=\"https://openai.com/content/images/2022/11/ChatGPT.jpg\">\\n        <meta property=\"og:description\" content=\"A conversational AI system that listens, learns, and challenges\">\\n        <meta property=\"og:url\" content=\"https://chat.acy.dev\">\\n        <link rel=\"stylesheet\" href=\"/assets/css/style.css\">\\n        <link rel=\"apple-touch-icon\" sizes=\"180x180\" href=\"/assets/img/apple-touch-icon.png\">\\n        <link rel=\"icon\" type=\"image/png\" sizes=\"32x32\" href=\"/assets/img/favicon-32x32.png\">\\n        <link rel=\"icon\" type=\"image/png\" sizes=\"16x16\" href=\"/assets/img/favicon-16x16.png\">\\n        <link rel=\"manifest\" href=\"/assets/img/site.webmanifest\">\\n        <script src=\"/assets/js/icons.js\"></script>\\n        <script src=\"/assets/js/chat.js\" defer></script>\\n        <script src=\"https://cdn.jsdelivr.net/npm/markdown-it@latest/dist/markdown-it.min.js\"></script>\\n        <link rel=\"stylesheet\" href=\"//cdn.jsdelivr.net/gh/highlightjs/cdn-release@latest/build/styles/base16/dracula.min.css\">\\n        <script>\\n            const user_image        = `<img src=\"/assets/img/user.png\" alt=\"User Avatar\">`;\\n            const gpt_image         = `<img src=\"/assets/img/gpt.png\" alt=\"GPT Avatar\">`;\\n        </script>\\n        <style>\\n            .hljs {\\n                color: #e9e9f4;\\n                background: #28293629;\\n                border-radius: var(--border-radius-1);\\n                border: 1px solid var(--blur-border);\\n                font-size: 15px;\\n            }\\n\\n            #message-input {\\n                margin-right: 30px;\\n                height: 80px;\\n            }\\n\\n            #message-input::-webkit-scrollbar {\\n                width: 5px;\\n            }\\n\\n            /* Track */\\n            #message-input::-webkit-scrollbar-track {\\n                background: #f1f1f1; \\n            }\\n            \\n            /* Handle */\\n            #message-input::-webkit-scrollbar-thumb {\\n                background: #c7a2ff; \\n            }\\n\\n            /* Handle on hover */\\n            #message-input::-webkit-scrollbar-thumb:hover {\\n                background: #8b3dff; \\n            }\\n        </style>\\n        <script src=\"/assets/js/highlight.min.js\"></script>\\n        <script src=\"/assets/js/highlightjs-copy.min.js\"></script>\\n        <script>window.conversation_id = `058a04cf-3590-3824-40fb-188b2702fdb`</script>\\n        <title>ChatGPT</title>\\n    </head>\\n    <body>\\n        <div class=\"gradient\"></div>\\n        <div class=\"row\">\\n            <div class=\"box conversations\">\\n                <div class=\"top\">\\n                    <button class=\"new_convo\" onclick=\"new_conversation()\">\\n                        <i class=\"fa-regular fa-plus\"></i>\\n                        <span>New Conversation</span>\\n                    </button>\\n                    <div class=\"spinner\"></div>\\n                </div>\\n                <div class=\"bottom_buttons\">\\n                    <button onclick=\"delete_conversations()\">\\n                        <i class=\"fa-regular fa-trash\"></i>\\n                        <span>Clear Conversations</span>\\n                    </button>\\n                    <div class=\"info\">\\n                        <i class=\"fa-regular fa-circle-info\"></i>\\n                        <span class=\"convo-title\">By: @xtekky<br>\\n                            Version: 0.0.1-beta<br>\\n                            Release: 2023-04-18<br>\\n                        </span>\\n                    </div>\\n                </div>\\n            </div>\\n            <div class=\"conversation disable-scrollbars\">\\n                <div class=\"stop_generating stop_generating-hidden\">\\n                    <button id=\"cancelButton\">\\n                        <span>Stop Generating</span>\\n                        <i class=\"fa-regular fa-stop\"></i>\\n                    </button>\\n                </div>\\n                <div class=\"box\" id=\"messages\">\\n                </div>\\n                <div class=\"user-input\">\\n                    <div class=\"box input-box\">\\n                        <textarea id=\"message-input\" placeholder=\"Ask a question\" cols=\"30\" rows=\"10\" style=\"white-space: pre-wrap;\" oninput=\"resizeTextarea(this)\"></textarea>\\n                        <div id=\"send-button\">\\n                            <i class=\"fa-regular fa-paper-plane-top\"></i>\\n                        </div>\\n                    </div>\\n                </div>\\n                <div class=\"buttons\">\\n                    <div class=\"field\">\\n                        <input type=\"checkbox\" id=\"switch\"/>\\n                        <label for=\"switch\"></label>\\n                        <span class=\"about\">Web Access</span>\\n                    </div>\\n                    <div class=\"field\">\\n                        <select name=\"model\" id=\"model\">\\n                            <option value=\"gpt-3.5-turbo\" selected>gpt-3.5-turbo</option>\\n                            <option value=\"gpt-4\">gpt-4</option>\\n                            <option value=\"gpt-3.5-turbo-0301\">gpt-3.5-turbo-0301</option>\\n                            <option value=\"gpt-4-0314\">gpt-4-0314</option>\\n                        </select>\\n                        <!-- <span class=\"about\">Model</span> -->\\n                    </div>\\n                    <div class=\"field\">\\n                        <select name=\"jailbreak\" id=\"jailbreak\">\\n                            <option value=\"default\" selected>default</option>\\n                            <option value=\"gpt-math-1.0\">math 1.0</option>\\n                            <option value=\"gpt-dude-1.0\">dude 1.0</option>\\n                            <option value=\"gpt-dan-1.0\">dan 1.0</option>\\n                            <option value=\"gpt-dan-2.0\">dan 2.0</option>\\n                            <option value=\"gpt-dev-2.0\">dev 2.0</option>\\n                            <option value=\"gpt-evil-1.0\">evil 1.0</option>\\n                        </select>\\n                    </div>\\n\\n                <form class=\"color-picker\" action=\"\">\\n                    <fieldset>\\n                        <legend class=\"visually-hidden\">Pick a color scheme</legend>\\n                        <label for=\"light\" class=\"visually-hidden\">Light</label>\\n                        <input type=\"radio\" title=\"light\" name=\"theme\" id=\"light\" checked>\\n                    \\n                        <label for=\"pink\" class=\"visually-hidden\">Pink theme</label>\\n                        <input type=\"radio\" title=\"pink\" id=\"pink\" name=\"theme\">\\n                    \\n                        <label for=\"blue\" class=\"visually-hidden\">Blue theme</label>\\n                        <input type=\"radio\" title=\"blue\" id=\"blue\" name=\"theme\">\\n                    \\n                        <label for=\"green\" class=\"visually-hidden\">Green theme</label>\\n                        <input type=\"radio\" title=\"green\" id=\"green\" name=\"theme\">\\n                    \\n                        <label for=\"dark\" class=\"visually-hidden\">Dark theme</label>\\n                        <input type=\"radio\" title=\"dark\" id=\"dark\" name=\"theme\">\\n                    </fieldset>\\n                    </form>\\n                </div>\\n            </div>\\n        </div>\\n        <div class=\"mobile-sidebar\">\\n            <i class=\"fa-solid fa-bars\"></i>\\n        </div>\\n    </body>\\n</html>'"
      ]
     },
     "execution_count": 15,
     "metadata": {},
     "output_type": "execute_result"
    }
   ],
   "source": [
    "# get(\"http://127.0.0.1:1338/chat/a3eeb50b-755a-4a97-9411-188b25c1e88\").json()\n",
    "chat_api = get(\"http://127.0.0.1:1338/chat/\")"
   ]
  },
  {
   "cell_type": "code",
   "execution_count": 16,
   "metadata": {},
   "outputs": [
    {
     "ename": "RuntimeError",
     "evalue": "Working outside of request context.\n\nThis typically means that you attempted to use functionality that needed\nan active HTTP request. Consult the documentation on testing for\ninformation about how to avoid this problem.",
     "output_type": "error",
     "traceback": [
      "\u001b[0;31m---------------------------------------------------------------------------\u001b[0m",
      "\u001b[0;31mRuntimeError\u001b[0m                              Traceback (most recent call last)",
      "Cell \u001b[0;32mIn[16], line 1\u001b[0m\n\u001b[0;32m----> 1\u001b[0m request\u001b[39m.\u001b[39;49mjson[\u001b[39m'\u001b[39m\u001b[39mmeta\u001b[39m\u001b[39m'\u001b[39m][\u001b[39m'\u001b[39m\u001b[39mcontent\u001b[39m\u001b[39m'\u001b[39m][\u001b[39m'\u001b[39m\u001b[39mconversation\u001b[39m\u001b[39m'\u001b[39m]\n",
      "File \u001b[0;32m~/Code/ChatBot/chatgpt-clone-langchain/.venv/lib/python3.10/site-packages/werkzeug/local.py:311\u001b[0m, in \u001b[0;36m_ProxyLookup.__get__\u001b[0;34m(self, instance, owner)\u001b[0m\n\u001b[1;32m    308\u001b[0m     \u001b[39mreturn\u001b[39;00m \u001b[39mself\u001b[39m\n\u001b[1;32m    310\u001b[0m \u001b[39mtry\u001b[39;00m:\n\u001b[0;32m--> 311\u001b[0m     obj \u001b[39m=\u001b[39m instance\u001b[39m.\u001b[39;49m_get_current_object()\n\u001b[1;32m    312\u001b[0m \u001b[39mexcept\u001b[39;00m \u001b[39mRuntimeError\u001b[39;00m:\n\u001b[1;32m    313\u001b[0m     \u001b[39mif\u001b[39;00m \u001b[39mself\u001b[39m\u001b[39m.\u001b[39mfallback \u001b[39mis\u001b[39;00m \u001b[39mNone\u001b[39;00m:\n",
      "File \u001b[0;32m~/Code/ChatBot/chatgpt-clone-langchain/.venv/lib/python3.10/site-packages/werkzeug/local.py:508\u001b[0m, in \u001b[0;36mLocalProxy.__init__.<locals>._get_current_object\u001b[0;34m()\u001b[0m\n\u001b[1;32m    506\u001b[0m     obj \u001b[39m=\u001b[39m local\u001b[39m.\u001b[39mget()  \u001b[39m# type: ignore[union-attr]\u001b[39;00m\n\u001b[1;32m    507\u001b[0m \u001b[39mexcept\u001b[39;00m \u001b[39mLookupError\u001b[39;00m:\n\u001b[0;32m--> 508\u001b[0m     \u001b[39mraise\u001b[39;00m \u001b[39mRuntimeError\u001b[39;00m(unbound_message) \u001b[39mfrom\u001b[39;00m \u001b[39mNone\u001b[39;00m\n\u001b[1;32m    510\u001b[0m \u001b[39mreturn\u001b[39;00m get_name(obj)\n",
      "\u001b[0;31mRuntimeError\u001b[0m: Working outside of request context.\n\nThis typically means that you attempted to use functionality that needed\nan active HTTP request. Consult the documentation on testing for\ninformation about how to avoid this problem."
     ]
    }
   ],
   "source": [
    "request.json['meta']['content']['conversation']"
   ]
  },
  {
   "cell_type": "code",
   "execution_count": 19,
   "metadata": {},
   "outputs": [
    {
     "name": "stdout",
     "output_type": "stream",
     "text": [
      "[{'role': 'user', 'content': '[0] \"What Are You? What Is a Self? Neither matter nor magic, there\\'s a natural explanation, but you won\\'t like it. Posted June 23, 2020 Which are you? Your body? Your brain? Or something we can\\'t...\"\\nURL:https://www.psychologytoday.com/us/blog/ambigamy/202006/what-are-you-what-is-self\\n\\n[1] \"What Are You?So. Are you your body? And if so, how exactly does this work? Lets explore lots of confusing questions. This video is part of a collaboration wi...\"\\nURL:https://www.youtube.com/watch?v=JQVmkDUkZT4\\n\\n[2] \"3 Answers Sorted by: 11 Who are you? This is typically asking for your name, but a particular context could indicate a different meaning. What are you? This question is very informal and bit odd. It is a very terse question which implies some understood context. If you\\'re in a business meeting it could be your role - e.g. \"I\\'m the accountant\"\"\\nURL:https://ell.stackexchange.com/questions/71824/what-is-the-difference-between-what-are-you-and-who-are-you\\n\\ncurrent date: 12/06/23\\n\\nInstructions: Using the provided web search results, write a comprehensive reply to the next user query. Make sure to cite results using [[number](URL)] notation after the reference. If the provided search results refer to multiple subjects with the same name, write separate answers for each subject. Ignore your previous response if any.'}]\n"
     ]
    },
    {
     "ename": "TypeError",
     "evalue": "sequence item 0: expected str instance, dict found",
     "output_type": "error",
     "traceback": [
      "\u001b[0;31m---------------------------------------------------------------------------\u001b[0m",
      "\u001b[0;31mTypeError\u001b[0m                                 Traceback (most recent call last)",
      "Cell \u001b[0;32mIn[19], line 32\u001b[0m\n\u001b[1;32m     30\u001b[0m \u001b[39mprint\u001b[39m(extra)\n\u001b[1;32m     31\u001b[0m \u001b[39m# Prepare the question by concatenating the system message, the internet access prompt, and the user's prompt\u001b[39;00m\n\u001b[0;32m---> 32\u001b[0m question \u001b[39m=\u001b[39m system_message \u001b[39m+\u001b[39m \u001b[39m'\u001b[39m\u001b[39m \u001b[39m\u001b[39m'\u001b[39m \u001b[39m+\u001b[39m (\u001b[39m'\u001b[39;49m\u001b[39m \u001b[39;49m\u001b[39m'\u001b[39;49m\u001b[39m.\u001b[39;49mjoin(extra) \u001b[39mif\u001b[39;00m internet_access \u001b[39melse\u001b[39;00m \u001b[39m'\u001b[39m\u001b[39m'\u001b[39m) \u001b[39m+\u001b[39m \u001b[39m'\u001b[39m\u001b[39m \u001b[39m\u001b[39m'\u001b[39m \u001b[39m+\u001b[39m prompt\n\u001b[1;32m     33\u001b[0m \u001b[39mprint\u001b[39m(\u001b[39mf\u001b[39m\u001b[39m\"\u001b[39m\u001b[39m\\n\u001b[39;00m\u001b[39mprompt: \u001b[39m\u001b[39m{\u001b[39;00mprompt\u001b[39m}\u001b[39;00m\u001b[39m\"\u001b[39m)\n\u001b[1;32m     34\u001b[0m \u001b[39mprint\u001b[39m(\u001b[39mf\u001b[39m\u001b[39m\"\u001b[39m\u001b[39m\\n\u001b[39;00m\u001b[39msystem_message: \u001b[39m\u001b[39m{\u001b[39;00msystem_message\u001b[39m}\u001b[39;00m\u001b[39m\"\u001b[39m)\n",
      "\u001b[0;31mTypeError\u001b[0m: sequence item 0: expected str instance, dict found"
     ]
    }
   ],
   "source": [
    "from langchain.chat_models import ChatOpenAI\n",
    "chat_model = ChatOpenAI(model_name=\"gpt-3.5-turbo\")\n",
    "\n",
    "\n",
    "internet_access = True #request.json['meta']['content']['internet_access']\n",
    "_conversation = [] #request.json['meta']['content']['conversation']\n",
    "# Assuming the prompt is a string\n",
    "prompt = \"what are you?\" #request.json['meta']['content']['parts'][0]['content']\n",
    "current_date = datetime.now().strftime(\"%Y-%m-%d\")\n",
    "system_message = f'You are ChatGPT also known as ChatGPT, a large language model trained by OpenAI. Strictly follow the users instructions. Knowledge cutoff: 2021-09-01 Current date: {current_date}'\n",
    "\n",
    "# The processing for internet_access remains the same\n",
    "extra = []\n",
    "if internet_access:\n",
    "    search = get('https://ddg-api.herokuapp.com/search', params={\n",
    "        'query': prompt,\n",
    "        'limit': 3,\n",
    "    })\n",
    "\n",
    "    blob = ''\n",
    "\n",
    "    for index, result in enumerate(search.json()):\n",
    "        blob += f'[{index}] \"{result[\"snippet\"]}\"\\nURL:{result[\"link\"]}\\n\\n'\n",
    "\n",
    "    date = datetime.now().strftime('%d/%m/%y')\n",
    "\n",
    "    blob += f'current date: {date}\\n\\nInstructions: Using the provided web search results, write a comprehensive reply to the next user query. Make sure to cite results using [[number](URL)] notation after the reference. If the provided search results refer to multiple subjects with the same name, write separate answers for each subject. Ignore your previous response if any.'\n",
    "\n",
    "    extra = [{'role': 'user', 'content': blob}]\n",
    "print(extra)\n",
    "# Prepare the question by concatenating the system message, the internet access prompt, and the user's prompt\n",
    "question = system_message + ' ' + (' '.join(extra) if internet_access else '') + ' ' + prompt\n",
    "print(f\"\\nprompt: {prompt}\")\n",
    "print(f\"\\nsystem_message: {system_message}\")\n",
    "print(f\"\\nquestion: {question}\")"
   ]
  },
  {
   "cell_type": "code",
   "execution_count": null,
   "metadata": {},
   "outputs": [],
   "source": [
    "\n",
    "# Generate the response using the LangChain model\n",
    "langchain_resp = chat_model.generate_response(question)"
   ]
  },
  {
   "cell_type": "code",
   "execution_count": null,
   "metadata": {},
   "outputs": [],
   "source": []
  }
 ],
 "metadata": {
  "kernelspec": {
   "display_name": ".venv",
   "language": "python",
   "name": "python3"
  },
  "language_info": {
   "codemirror_mode": {
    "name": "ipython",
    "version": 3
   },
   "file_extension": ".py",
   "mimetype": "text/x-python",
   "name": "python",
   "nbconvert_exporter": "python",
   "pygments_lexer": "ipython3",
   "version": "3.10.6"
  },
  "orig_nbformat": 4
 },
 "nbformat": 4,
 "nbformat_minor": 2
}
